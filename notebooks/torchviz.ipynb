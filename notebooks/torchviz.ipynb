{
 "cells": [
  {
   "cell_type": "markdown",
   "id": "9003dea6-e8fd-4142-a501-33b00b58dccd",
   "metadata": {},
   "source": [
    "# Debugging computational graphs using `torchviz`"
   ]
  },
  {
   "cell_type": "code",
   "execution_count": null,
   "id": "a6d1fbb1",
   "metadata": {},
   "outputs": [],
   "source": [
    "!pip install torchviz"
   ]
  },
  {
   "cell_type": "code",
   "execution_count": null,
   "id": "9ed34f23-b971-4477-930d-a318532c7d70",
   "metadata": {},
   "outputs": [],
   "source": [
    "import matplotlib.pyplot as plt\n",
    "import numpy as np\n",
    "import torch\n",
    "\n",
    "from afem.models import VectorSpinModel\n",
    "from torchviz import make_dot\n",
    "\n",
    "\n",
    "def resize_graph(dot, size_per_element=0.5, min_size=12):\n",
    "    \"\"\"Resize the graph according to how much content it contains.\"\"\"\n",
    "    # Get the approximate number of nodes and edges\n",
    "    num_rows = len(dot.body)\n",
    "    content_size = num_rows * size_per_element\n",
    "    size = max(min_size, content_size)\n",
    "    size_str = str(size) + \",\" + str(size)\n",
    "    dot.graph_attr.update(size=size_str)\n",
    "    return dot"
   ]
  },
  {
   "cell_type": "code",
   "execution_count": null,
   "id": "198d518a",
   "metadata": {},
   "outputs": [],
   "source": [
    "num_spins, dim = 32, 128\n",
    "\n",
    "model = VectorSpinModel(\n",
    "    num_spins=num_spins,\n",
    "    dim=dim,\n",
    "    beta=1.0,\n",
    ")\n",
    "\n",
    "x = torch.randn(1, num_spins, dim)\n",
    "\n",
    "afe, t_star, responses = model(x, return_responses=True)\n",
    "\n",
    "resize_graph(make_dot(responses.sum(), params=dict(model.named_parameters())))  # .render('torchviz_output/model_responses')"
   ]
  }
 ],
 "metadata": {
  "kernelspec": {
   "display_name": "deep-implicit-attention",
   "language": "python",
   "name": "deep-implicit-attention"
  },
  "language_info": {
   "codemirror_mode": {
    "name": "ipython",
    "version": 3
   },
   "file_extension": ".py",
   "mimetype": "text/x-python",
   "name": "python",
   "nbconvert_exporter": "python",
   "pygments_lexer": "ipython3",
   "version": "3.8.8"
  }
 },
 "nbformat": 4,
 "nbformat_minor": 5
}
