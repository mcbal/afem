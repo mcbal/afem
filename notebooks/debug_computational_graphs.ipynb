{
 "cells": [
  {
   "cell_type": "markdown",
   "id": "5020d594",
   "metadata": {},
   "source": [
    "# Debugging computational graphs using `torchviz`"
   ]
  },
  {
   "cell_type": "markdown",
   "id": "cdfb2e6c",
   "metadata": {},
   "source": [
    "This notebook can be used to study the computational graph that is constructed by `afem.models.VectorSpinModel`, both for the default input-independent couplings (`J_external=False`) and transformer-like input-dependent couplings (`J_external=True`). The latter case has a more involved computational graph because of the additional J(H) dependencies (see the blog post https://mcbal.github.io/post/transformers-from-spin-models-approximate-free-energy-minimization/ for more information)."
   ]
  },
  {
   "cell_type": "code",
   "execution_count": null,
   "id": "d32573cb",
   "metadata": {},
   "outputs": [],
   "source": [
    "!pip install torchviz"
   ]
  },
  {
   "cell_type": "code",
   "execution_count": null,
   "id": "a4d93a8a",
   "metadata": {},
   "outputs": [],
   "source": [
    "import matplotlib.pyplot as plt\n",
    "import numpy as np\n",
    "import torch\n",
    "\n",
    "from afem.models import VectorSpinModel\n",
    "from torchviz import make_dot\n",
    "\n",
    "\n",
    "def resize_graph(dot, size_per_element=0.5, min_size=12):\n",
    "    \"\"\"Resize the graph according to how much content it contains.\"\"\"\n",
    "    # Get the approximate number of nodes and edges\n",
    "    num_rows = len(dot.body)\n",
    "    content_size = num_rows * size_per_element\n",
    "    size = max(min_size, content_size)\n",
    "    size_str = str(size) + \",\" + str(size)\n",
    "    dot.graph_attr.update(size=size_str)\n",
    "    return dot"
   ]
  },
  {
   "cell_type": "code",
   "execution_count": null,
   "id": "c8693697",
   "metadata": {
    "scrolled": false
   },
   "outputs": [],
   "source": [
    "num_spins, dim = 32, 128\n",
    "\n",
    "model = VectorSpinModel(\n",
    "    num_spins=num_spins,\n",
    "    dim=dim,\n",
    "    beta=1.0,\n",
    ")\n",
    "\n",
    "x = (torch.randn(1, num_spins, dim) / np.sqrt(dim)).requires_grad_()\n",
    "t0 = torch.ones(num_spins).requires_grad_()\n",
    "\n",
    "out = model(x, t0=t0, return_afe=True)\n",
    "\n",
    "resize_graph(make_dot(out.afe.sum(), params=dict(model.named_parameters())))  # .render('torchviz_output/model_responses')"
   ]
  },
  {
   "cell_type": "code",
   "execution_count": null,
   "id": "30b5b65e",
   "metadata": {
    "scrolled": false
   },
   "outputs": [],
   "source": [
    "num_spins, dim = 32, 128\n",
    "\n",
    "model = VectorSpinModel(\n",
    "    num_spins=num_spins,\n",
    "    dim=dim,\n",
    "    beta=1.0,\n",
    "    J_external=True,\n",
    ")\n",
    "\n",
    "x = (torch.randn(1, num_spins, dim) / np.sqrt(dim)).requires_grad_()\n",
    "t0 = torch.ones(1).requires_grad_()\n",
    "\n",
    "out = model(x, t0=t0, return_magnetizations=True)\n",
    "\n",
    "resize_graph(make_dot(out.magnetizations.sum(), params=dict(model.named_parameters())))  # .render('torchviz_output/model_responses')"
   ]
  },
  {
   "cell_type": "code",
   "execution_count": null,
   "id": "e90f594e",
   "metadata": {},
   "outputs": [],
   "source": []
  }
 ],
 "metadata": {
  "interpreter": {
   "hash": "9a381f988a012a7d85dd2f7d643f5ea214eb4ea63582976751bba21ab27050ff"
  },
  "kernelspec": {
   "display_name": "Python 3 (ipykernel)",
   "language": "python",
   "name": "python3"
  },
  "language_info": {
   "codemirror_mode": {
    "name": "ipython",
    "version": 3
   },
   "file_extension": ".py",
   "mimetype": "text/x-python",
   "name": "python",
   "nbconvert_exporter": "python",
   "pygments_lexer": "ipython3",
   "version": "3.8.8"
  }
 },
 "nbformat": 4,
 "nbformat_minor": 5
}
